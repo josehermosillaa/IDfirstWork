{
 "cells": [
  {
   "cell_type": "code",
   "execution_count": 1,
   "id": "5b78cb9e-c275-4b33-b9ea-eeeedd312332",
   "metadata": {},
   "outputs": [],
   "source": [
    "import pandas as pd"
   ]
  },
  {
   "cell_type": "code",
   "execution_count": 3,
   "id": "d53357af-44c5-464e-8adc-3151bb196282",
   "metadata": {},
   "outputs": [],
   "source": [
    "df = pd.read_csv(f'lic_2023-9.csv', sep = \";\", lineterminator='\\n', encoding='latin-1')"
   ]
  },
  {
   "cell_type": "code",
   "execution_count": 6,
   "id": "041fc92a-8c87-4d4a-9b2d-60d07bf94afe",
   "metadata": {},
   "outputs": [
    {
     "data": {
      "text/plain": [
       "0       0\n",
       "1       0\n",
       "2       0\n",
       "3       0\n",
       "4       0\n",
       "       ..\n",
       "1401    0\n",
       "1402    0\n",
       "1403    0\n",
       "1404    0\n",
       "1405    0\n",
       "Name: MontoLineaAdjudica, Length: 1406, dtype: object"
      ]
     },
     "execution_count": 6,
     "metadata": {},
     "output_type": "execute_result"
    }
   ],
   "source": [
    "df['MontoLineaAdjudica']"
   ]
  },
  {
   "cell_type": "code",
   "execution_count": 8,
   "id": "81ef308b-3a99-471a-830f-368ba3220dc7",
   "metadata": {},
   "outputs": [
    {
     "data": {
      "text/plain": [
       "0       0\n",
       "1       0\n",
       "2       0\n",
       "3       0\n",
       "4       0\n",
       "       ..\n",
       "1401    0\n",
       "1402    0\n",
       "1403    0\n",
       "1404    0\n",
       "1405    0\n",
       "Name: MontoLineaAdjudica, Length: 1406, dtype: object"
      ]
     },
     "execution_count": 8,
     "metadata": {},
     "output_type": "execute_result"
    }
   ],
   "source": [
    "df['MontoLineaAdjudica'].str.replace(',','.')"
   ]
  },
  {
   "cell_type": "code",
   "execution_count": 10,
   "id": "7f512adc-e862-4852-9232-a4f47731edf7",
   "metadata": {},
   "outputs": [
    {
     "data": {
      "text/plain": [
       "dtype('int64')"
      ]
     },
     "execution_count": 10,
     "metadata": {},
     "output_type": "execute_result"
    }
   ],
   "source": [
    "df['CantidadAdjudicada'].dtype"
   ]
  },
  {
   "cell_type": "code",
   "execution_count": null,
   "id": "b0ca6daf-ba76-4266-92fe-6ca25da8dc83",
   "metadata": {},
   "outputs": [],
   "source": []
  }
 ],
 "metadata": {
  "kernelspec": {
   "display_name": "Python 3 (ipykernel)",
   "language": "python",
   "name": "python3"
  },
  "language_info": {
   "codemirror_mode": {
    "name": "ipython",
    "version": 3
   },
   "file_extension": ".py",
   "mimetype": "text/x-python",
   "name": "python",
   "nbconvert_exporter": "python",
   "pygments_lexer": "ipython3",
   "version": "3.11.3"
  }
 },
 "nbformat": 4,
 "nbformat_minor": 5
}
