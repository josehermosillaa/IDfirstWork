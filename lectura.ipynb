{
 "cells": [
  {
   "cell_type": "code",
   "execution_count": 33,
   "id": "119a523f-c97f-42c2-b216-c69f7dff1c01",
   "metadata": {},
   "outputs": [],
   "source": [
    "import pandas as pd"
   ]
  },
  {
   "cell_type": "code",
   "execution_count": null,
   "id": "97a6515a-ba08-4526-a824-8b90726ed0d3",
   "metadata": {},
   "outputs": [],
   "source": []
  },
  {
   "cell_type": "code",
   "execution_count": 48,
   "id": "e052c8a8-6296-41f3-b023-178a76bd8a9b",
   "metadata": {},
   "outputs": [
    {
     "name": "stderr",
     "output_type": "stream",
     "text": [
      "C:\\Users\\joseh\\AppData\\Local\\Temp\\ipykernel_20132\\3565023986.py:1: DtypeWarning: Columns (27,52,63,64,87,94,97,101) have mixed types. Specify dtype option on import or set low_memory=False.\n",
      "  df = pd.read_csv('lic_2023-1.csv', sep = \";\", lineterminator='\\n', encoding='latin-1')\n"
     ]
    }
   ],
   "source": [
    "df = pd.read_csv('lic_2023-1.csv', sep = \";\", lineterminator='\\n', encoding='latin-1')"
   ]
  },
  {
   "cell_type": "code",
   "execution_count": 51,
   "id": "147f5bc0-4355-4bdf-b8cf-d0fea9ac99d1",
   "metadata": {},
   "outputs": [
    {
     "data": {
      "text/html": [
       "<pre>&lt;class 'pandas.core.frame.DataFrame'&gt;\n",
       "RangeIndex: 5 entries, 182506 to 182510\n",
       "Columns: 105 entries, Codigo to Oferta seleccionada\r\n",
       "dtypes: float64(5), int64(33), object(67)\n",
       "memory usage: 4.2+ KB\n",
       "</pre>"
      ],
      "text/plain": [
       "<class 'pandas.core.frame.DataFrame'>\n",
       "RangeIndex: 5 entries, 182506 to 182510\n",
       "Columns: 105 entries, Codigo to Oferta seleccionada\n",
       "dtypes: float64(5), int64(33), object(67)\n",
       "memory usage: 4.2+ KB"
      ]
     },
     "execution_count": 51,
     "metadata": {},
     "output_type": "execute_result"
    }
   ],
   "source": [
    "df.tail()"
   ]
  },
  {
   "cell_type": "code",
   "execution_count": 41,
   "id": "f5e06725-b43b-4cb5-81db-799aa58920d4",
   "metadata": {},
   "outputs": [
    {
     "data": {
      "text/plain": [
       "Index(['Codigo', 'Link', 'CodigoExterno', 'Nombre', 'Descripcion',\n",
       "       'Tipo de Adquisicion', 'CodigoEstado', 'Estado', 'CodigoOrganismo',\n",
       "       'NombreOrganismo',\n",
       "       ...\n",
       "       'Nombre de la Oferta', 'Estado Oferta', 'Cantidad Ofertada',\n",
       "       'Moneda de la Oferta', 'MontoUnitarioOferta', 'Valor Total Ofertado',\n",
       "       'CantidadAdjudicada', 'MontoLineaAdjudica', 'FechaEnvioOferta',\n",
       "       'Oferta seleccionada\\r'],\n",
       "      dtype='object', length=105)"
      ]
     },
     "execution_count": 41,
     "metadata": {},
     "output_type": "execute_result"
    }
   ],
   "source": [
    "df.columns"
   ]
  },
  {
   "cell_type": "code",
   "execution_count": null,
   "id": "9437bf26-5419-48d9-810b-0feb96003423",
   "metadata": {},
   "outputs": [],
   "source": []
  },
  {
   "cell_type": "code",
   "execution_count": null,
   "id": "dd27b186-467f-41ee-b3dd-3f1a78f68fd5",
   "metadata": {},
   "outputs": [],
   "source": []
  },
  {
   "cell_type": "code",
   "execution_count": 31,
   "id": "3b555b43-79cc-4f87-9264-eb2c5f2b772f",
   "metadata": {},
   "outputs": [],
   "source": [
    "columns = df.columns.to_list()"
   ]
  },
  {
   "cell_type": "code",
   "execution_count": 42,
   "id": "778d6ffc-5810-4a17-8284-1300050c19eb",
   "metadata": {},
   "outputs": [
    {
     "data": {
      "text/plain": [
       "105"
      ]
     },
     "execution_count": 42,
     "metadata": {},
     "output_type": "execute_result"
    }
   ],
   "source": [
    "len(columns)"
   ]
  },
  {
   "cell_type": "code",
   "execution_count": 43,
   "id": "2f8fb6ae-cb7b-4887-baf6-2c67b71298ab",
   "metadata": {},
   "outputs": [
    {
     "data": {
      "text/plain": [
       "'JustificacionPublicidad'"
      ]
     },
     "execution_count": 43,
     "metadata": {},
     "output_type": "execute_result"
    }
   ],
   "source": [
    "columns[27]"
   ]
  },
  {
   "cell_type": "code",
   "execution_count": 44,
   "id": "9c76edd4-7b8a-483f-8a80-754952ba2430",
   "metadata": {},
   "outputs": [
    {
     "name": "stdout",
     "output_type": "stream",
     "text": [
      "<class 'pandas.core.frame.DataFrame'>\n",
      "RangeIndex: 182511 entries, 0 to 182510\n",
      "Columns: 105 entries, Codigo to Oferta seleccionada\n",
      "dtypes: float64(5), int64(33), object(67)\n",
      "memory usage: 146.2+ MB\n"
     ]
    }
   ],
   "source": [
    "df.info()\n"
   ]
  },
  {
   "cell_type": "code",
   "execution_count": null,
   "id": "56fe0cc0-d6ad-4ebf-a7a9-e0c4d1898456",
   "metadata": {},
   "outputs": [],
   "source": []
  }
 ],
 "metadata": {
  "kernelspec": {
   "display_name": "Python 3 (ipykernel)",
   "language": "python",
   "name": "python3"
  },
  "language_info": {
   "codemirror_mode": {
    "name": "ipython",
    "version": 3
   },
   "file_extension": ".py",
   "mimetype": "text/x-python",
   "name": "python",
   "nbconvert_exporter": "python",
   "pygments_lexer": "ipython3",
   "version": "3.11.3"
  }
 },
 "nbformat": 4,
 "nbformat_minor": 5
}
